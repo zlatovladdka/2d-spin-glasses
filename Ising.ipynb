{
 "cells": [
  {
   "cell_type": "code",
   "execution_count": 181,
   "id": "02fe5bd9",
   "metadata": {},
   "outputs": [],
   "source": [
    "from pymongo import MongoClient\n",
    "import matplotlib.pylab as plt\n",
    "import numpy as np\n",
    "import pandas as pd\n",
    "import scipy.optimize\n",
    "\n",
    "client = MongoClient(\"c8.itp.ac.ru\", 27027)"
   ]
  },
  {
   "cell_type": "code",
   "execution_count": 220,
   "id": "f171dc3d",
   "metadata": {},
   "outputs": [],
   "source": [
    "def corr_time(Nx, Ny, T, min_time = 0, max_time = np.inf, draw_each = False, fit=False):\n",
    "    mt = []\n",
    "    df = pd.DataFrame()\n",
    "    for result in client.numerics.glass.find({\"Nx\": Nx, \"Ny\": Ny, \"T\": T}):\n",
    "        # if np.abs(result['corr_values'][-1]) >= 1e-2: continue\n",
    "            \n",
    "        x = np.array(result['corr_times'])\n",
    "        y = np.array(result['corr_values'])\n",
    "        \n",
    "        y = y[(x[:] >= min_time) & (x[:] <= max_time)]\n",
    "        x = x[(x[:] >= min_time) & (x[:] <= max_time)]\n",
    "\n",
    "        if draw_each:\n",
    "            plt.semilogy(x, y)\n",
    "            \n",
    "        df = pd.concat([df, pd.Series(y)], axis=1)\n",
    "        \n",
    "    y_mean = df.mean(axis=1)\n",
    "    y_err = df.std(axis=1)\n",
    "    \n",
    "    \n",
    "    plt.errorbar(x, y_mean, yerr=y_err, linestyle='-.', label=\"Temp: {}\".format(T), elinewidth=0.5, errorevery=2)\n",
    "    plt.yscale('log')\n",
    "    #plt.semilogy(x, y_mean, linestyle='-.', label=\"Temp: {}\".format(T))\n",
    "    \n",
    "    plt.legend()\n",
    "    \n",
    "    if fit:\n",
    "        params, params_covariance = scipy.optimize.curve_fit(q_line, x, np.log(np.array(y_mean)))\n",
    "        plt.semilogy(x, q(x, params[0], params[1]), linestyle='--')\n",
    "                \n",
    "        print(params)"
   ]
  },
  {
   "cell_type": "code",
   "execution_count": 164,
   "id": "d146fa49",
   "metadata": {},
   "outputs": [],
   "source": [
    "def q_line(t, tau, A):\n",
    "    return A - t / tau"
   ]
  },
  {
   "cell_type": "code",
   "execution_count": 165,
   "id": "da3095dc",
   "metadata": {},
   "outputs": [],
   "source": [
    "def q(t, tau, A):\n",
    "    return np.exp(A - t / tau)"
   ]
  },
  {
   "cell_type": "code",
   "execution_count": 166,
   "id": "c2ec421a",
   "metadata": {},
   "outputs": [],
   "source": [
    "def observables(Nx, Ny, T):\n",
    "    e, m, chi, c = [], [], [], []\n",
    "    for result in client.numerics.ising.find({\"Nx\": Nx, \"Ny\": Ny, \"T\": T}):\n",
    "       #  if np.abs(result['corr_values'][-1]) >= 1e-2: continue\n",
    "        e.append(result['Energy'])\n",
    "        m.append(np.abs(result['Magnetization']))\n",
    "        c.append(result['Energy2'])\n",
    "        chi.append(result['Magnetization2'])\n",
    "    return [np.mean(e), np.mean(m), np.mean(c), np.mean(chi)]"
   ]
  },
  {
   "cell_type": "code",
   "execution_count": 225,
   "id": "9d47e9d0",
   "metadata": {
    "tags": []
   },
   "outputs": [
    {
     "data": {
      "text/plain": [
       "Text(0, 0.5, '<q(t)>')"
      ]
     },
     "execution_count": 225,
     "metadata": {},
     "output_type": "execute_result"
    },
    {
     "data": {
      "image/png": "[encoded data removed]",
      "text/plain": [
       "<Figure size 432x288 with 1 Axes>"
      ]
     },
     "metadata": {
      "needs_background": "light"
     },
     "output_type": "display_data"
    }
   ],
   "source": [
    "corr_time(100, 100, 5.0, draw_each=True)\n",
    "#corr_time(100, 100, 1.0)\n",
    "\n",
    "plt.xlabel('Time (MCS)')\n",
    "plt.ylabel('<q(t)>')\n",
    "\n",
    "# corr_time()"
   ]
  },
  {
   "cell_type": "code",
   "execution_count": 71,
   "id": "0b888fee",
   "metadata": {},
   "outputs": [
    {
     "data": {
      "text/plain": [
       "<matplotlib.collections.PathCollection at 0x24c030d7188>"
      ]
     },
     "execution_count": 71,
     "metadata": {},
     "output_type": "execute_result"
    },
    {
     "data": {
      "image/png": "[encoded data removed]",
      "text/plain": [
       "<Figure size 432x288 with 1 Axes>"
      ]
     },
     "metadata": {
      "needs_background": "light"
     },
     "output_type": "display_data"
    }
   ],
   "source": [
    "temp = np.array([1, 1.5, 1.8, 2, 2.2, 2.25, 2.27, 2.3, 2.5, 2.6, 3, 3.5])\n",
    "tau = np.array([0.99824405, 1.24013707, 3.87455095, 8.88365412, 83.95509624, 184.0874894, 1112.24625119, 1293.45461192, 176.15564308, 34.62297555, 8.54602628, 4.09455078])\n",
    "\n",
    "plt.scatter(temp, tau)"
   ]
  },
  {
   "cell_type": "code",
   "execution_count": 49,
   "id": "b836fad6",
   "metadata": {},
   "outputs": [],
   "source": [
    "temps = [1, 1.5, 1.8, 2, 2.2, 2.25, 2.3, 2.5, 2.6, 3, 3.5]\n",
    "char_df = pd.DataFrame()\n",
    "for i in temps:\n",
    "    char_df = pd.concat([char_df, pd.Series(observables(100, 100, i))], axis=1)\n",
    "    \n",
    "char_df.columns = temps\n",
    "char_df = char_df.T\n",
    "char_df.columns = ['E', 'M', 'C', 'Chi']"
   ]
  },
  {
   "cell_type": "code",
   "execution_count": 75,
   "id": "2d540f6d",
   "metadata": {},
   "outputs": [
    {
     "data": {
      "text/plain": [
       "<matplotlib.collections.PathCollection at 0x24b9d2fdd48>"
      ]
     },
     "execution_count": 75,
     "metadata": {},
     "output_type": "execute_result"
    },
    {
     "data": {
      "image/png": "[encoded data removed]",
      "text/plain": [
       "<Figure size 432x288 with 1 Axes>"
      ]
     },
     "metadata": {
      "needs_background": "light"
     },
     "output_type": "display_data"
    }
   ],
   "source": [
    "plt.scatter(temps, char_df['E'])"
   ]
  },
  {
   "cell_type": "code",
   "execution_count": 72,
   "id": "5760782a",
   "metadata": {},
   "outputs": [
    {
     "data": {
      "text/plain": [
       "<matplotlib.collections.PathCollection at 0x24b9d7d9908>"
      ]
     },
     "execution_count": 72,
     "metadata": {},
     "output_type": "execute_result"
    },
    {
     "data": {
      "image/png": "[encoded data removed]",
      "text/plain": [
       "<Figure size 432x288 with 1 Axes>"
      ]
     },
     "metadata": {
      "needs_background": "light"
     },
     "output_type": "display_data"
    }
   ],
   "source": [
    "plt.scatter(temps, char_df['M'])"
   ]
  },
  {
   "cell_type": "code",
   "execution_count": 73,
   "id": "a2834414",
   "metadata": {},
   "outputs": [
    {
     "data": {
      "text/plain": [
       "<matplotlib.collections.PathCollection at 0x24b9d838e48>"
      ]
     },
     "execution_count": 73,
     "metadata": {},
     "output_type": "execute_result"
    },
    {
     "data": {
      "image/png": "[encoded data removed]",
      "text/plain": [
       "<Figure size 432x288 with 1 Axes>"
      ]
     },
     "metadata": {
      "needs_background": "light"
     },
     "output_type": "display_data"
    }
   ],
   "source": [
    "plt.scatter(temps, char_df['C'])"
   ]
  },
  {
   "cell_type": "code",
   "execution_count": 74,
   "id": "3cbf1c70",
   "metadata": {},
   "outputs": [
    {
     "data": {
      "text/plain": [
       "<matplotlib.collections.PathCollection at 0x24b9d2fe548>"
      ]
     },
     "execution_count": 74,
     "metadata": {},
     "output_type": "execute_result"
    },
    {
     "data": {
      "image/png": "[encoded data removed]",
      "text/plain": [
       "<Figure size 432x288 with 1 Axes>"
      ]
     },
     "metadata": {
      "needs_background": "light"
     },
     "output_type": "display_data"
    }
   ],
   "source": [
    "plt.scatter(temps, char_df['Chi'])"
   ]
  }
 ],
 "metadata": {
  "kernelspec": {
   "display_name": "Python 3",
   "language": "python",
   "name": "python3"
  },
  "language_info": {
   "codemirror_mode": {
    "name": "ipython",
    "version": 3
   },
   "file_extension": ".py",
   "mimetype": "text/x-python",
   "name": "python",
   "nbconvert_exporter": "python",
   "pygments_lexer": "ipython3",
   "version": "3.9.5"
  }
 },
 "nbformat": 4,
 "nbformat_minor": 5
}
