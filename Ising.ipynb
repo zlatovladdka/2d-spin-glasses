{
 "cells": [
  {
   "cell_type": "code",
   "execution_count": 704,
   "metadata": {},
   "outputs": [],
   "source": [
    "from pymongo import MongoClient\n",
    "import matplotlib.pylab as plt\n",
    "import numpy as np\n",
    "import pandas as pd\n",
    "import scipy.optimize\n",
    "\n",
    "client = MongoClient(\"c3.itp.ac.ru\", 27027)"
   ]
  },
  {
   "cell_type": "code",
   "execution_count": 714,
   "metadata": {},
   "outputs": [],
   "source": [
    "def corr_time(Nx, Ny, T, min_time = 0, max_time = np.inf, draw_each = False, fit=True):\n",
    "    mt = []\n",
    "    df = pd.DataFrame()\n",
    "    for result in client.numerics.ising.find({\"Nx\": Nx, \"Ny\": Ny, \"T\": T}):\n",
    "        if np.abs(result['corr_values'][-1]) >= 1e-2: continue\n",
    "            \n",
    "        x = np.array(result['corr_times'])\n",
    "        y = np.array(result['corr_values'])\n",
    "        \n",
    "        y = y[(x[:] >= min_time) & (x[:] <= max_time)]\n",
    "        x = x[(x[:] >= min_time) & (x[:] <= max_time)]\n",
    "\n",
    "        if draw_each:\n",
    "            plt.semilogy(x, y)\n",
    "            \n",
    "        df = pd.concat([df, pd.Series(y)], axis=1)\n",
    "        \n",
    "    y_mean = df.mean(axis=1)\n",
    "    plt.semilogy(x, y_mean, linestyle='-.')\n",
    "    \n",
    "    if fit:\n",
    "        params, params_covariance = scipy.optimize.curve_fit(q_line, x, np.log(np.array(y_mean)))\n",
    "        plt.semilogy(x, q(x, params[0], params[1]), linestyle='--')\n",
    "                \n",
    "        return params"
   ]
  },
  {
   "cell_type": "code",
   "execution_count": 479,
   "metadata": {},
   "outputs": [],
   "source": [
    "def q_line(t, tau, A):\n",
    "    return A - t / tau"
   ]
  },
  {
   "cell_type": "code",
   "execution_count": 480,
   "metadata": {},
   "outputs": [],
   "source": [
    "def q(t, tau, A):\n",
    "    return np.exp(A - t / tau)"
   ]
  },
  {
   "cell_type": "code",
   "execution_count": 702,
   "metadata": {},
   "outputs": [],
   "source": [
    "def observables(Nx, Ny, T):\n",
    "    e, m, chi, c = [], [], [], []\n",
    "    for result in client.numerics.ising.find({\"Nx\": Nx, \"Ny\": Ny, \"T\": T}):\n",
    "        e.append(result['Energy'])\n",
    "        m.append(np.abs(result['Magnetization']))\n",
    "        c.append(result['Energy2'])\n",
    "        chi.append(result['Magnetization2'])\n",
    "    return [np.mean(e), np.mean(m), np.mean(c), np.mean(chi)]"
   ]
  },
  {
   "cell_type": "code",
   "execution_count": 726,
   "metadata": {
    "scrolled": false
   },
   "outputs": [
    {
     "data": {
      "text/plain": [
       "array([ 3.92258222, -1.39619432])"
      ]
     },
     "execution_count": 726,
     "metadata": {},
     "output_type": "execute_result"
    },
    {
     "data": {
      "image/png": "[encoded data removed]",
      "text/plain": [
       "<Figure size 432x288 with 1 Axes>"
      ]
     },
     "metadata": {
      "needs_background": "light"
     },
     "output_type": "display_data"
    }
   ],
   "source": [
    "corr_time(100, 100, 3.5, min_time=5, max_time=20, fit = True, draw_each = True)"
   ]
  },
  {
   "cell_type": "code",
   "execution_count": 695,
   "metadata": {},
   "outputs": [],
   "source": [
    "temps = [0.5, 0.6, 0.7, 0.8, 1.0, 1.5, 1.8, 2.0, 2.1, 2.2, 2.25, 2.26, 2.269, 2.27, 2.28, 2.29, 2.3, 2.35, 2.4, 2.5, 2.65, 2.8, 3.5]\n",
    "char_df = pd.DataFrame()\n",
    "for i in temps:\n",
    "    char_df = pd.concat([char_df, pd.Series(observables(100, 100, i))], axis=1)\n",
    "    \n",
    "char_df.columns = temps\n",
    "char_df = char_df.T\n",
    "char_df.columns = ['E', 'M', 'C', 'Chi']"
   ]
  },
  {
   "cell_type": "code",
   "execution_count": 696,
   "metadata": {},
   "outputs": [
    {
     "data": {
      "text/plain": [
       "<matplotlib.collections.PathCollection at 0x23c8b8c6708>"
      ]
     },
     "execution_count": 696,
     "metadata": {},
     "output_type": "execute_result"
    },
    {
     "data": {
      "image/png": "[encoded data removed]",
      "text/plain": [
       "<Figure size 432x288 with 1 Axes>"
      ]
     },
     "metadata": {
      "needs_background": "light"
     },
     "output_type": "display_data"
    }
   ],
   "source": [
    "plt.scatter(temps, char_df['Chi'])"
   ]
  }
 ],
 "metadata": {
  "kernelspec": {
   "display_name": "Python 3",
   "language": "python",
   "name": "python3"
  },
  "language_info": {
   "codemirror_mode": {
    "name": "ipython",
    "version": 3
   },
   "file_extension": ".py",
   "mimetype": "text/x-python",
   "name": "python",
   "nbconvert_exporter": "python",
   "pygments_lexer": "ipython3",
   "version": "3.7.6"
  }
 },
 "nbformat": 4,
 "nbformat_minor": 5
}
