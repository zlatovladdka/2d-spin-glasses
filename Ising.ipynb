{
 "cells": [
  {
   "cell_type": "code",
   "execution_count": 704,
   "metadata": {},
   "outputs": [],
   "source": [
    "from pymongo import MongoClient\n",
    "import matplotlib.pylab as plt\n",
    "import numpy as np\n",
    "import pandas as pd\n",
    "import scipy.optimize\n",
    "\n",
    "client = MongoClient(\"c3.itp.ac.ru\", 27027)"
   ]
  },
  {
   "cell_type": "code",
   "execution_count": 827,
   "metadata": {},
   "outputs": [],
   "source": [
    "def corr_time(Nx, Ny, T, min_time = 0, max_time = np.inf, draw_each = False, fit=True):\n",
    "    mt = []\n",
    "    df = pd.DataFrame()\n",
    "    for result in client.numerics.ising.find({\"Nx\": Nx, \"Ny\": Ny, \"T\": T}):\n",
    "        if np.abs(result['corr_values'][-1]) >= 6e-2: continue\n",
    "            \n",
    "        x = np.array(result['corr_times'])\n",
    "        y = np.array(result['corr_values'])\n",
    "        \n",
    "        y = y[(x[:] >= min_time) & (x[:] <= max_time)]\n",
    "        x = x[(x[:] >= min_time) & (x[:] <= max_time)]\n",
    "\n",
    "        if draw_each:\n",
    "            plt.semilogy(x, y)\n",
    "            \n",
    "        df = pd.concat([df, pd.Series(y)], axis=1)\n",
    "        \n",
    "    y_mean = df.mean(axis=1)\n",
    "    plt.semilogy(x, y_mean, linestyle='-.')\n",
    "    \n",
    "    if fit:\n",
    "        params, params_covariance = scipy.optimize.curve_fit(q_line, x, np.log(np.array(y_mean)))\n",
    "        plt.semilogy(x, q(x, params[0], params[1]), linestyle='--')\n",
    "                \n",
    "        return params"
   ]
  },
  {
   "cell_type": "code",
   "execution_count": 479,
   "metadata": {},
   "outputs": [],
   "source": [
    "def q_line(t, tau, A):\n",
    "    return A - t / tau"
   ]
  },
  {
   "cell_type": "code",
   "execution_count": 480,
   "metadata": {},
   "outputs": [],
   "source": [
    "def q(t, tau, A):\n",
    "    return np.exp(A - t / tau)"
   ]
  },
  {
   "cell_type": "code",
   "execution_count": 822,
   "metadata": {},
   "outputs": [],
   "source": [
    "def observables(Nx, Ny, T):\n",
    "    e, m, chi, c = [], [], [], []\n",
    "    for result in client.numerics.ising.find({\"Nx\": Nx, \"Ny\": Ny, \"T\": T}):\n",
    "       # if np.abs(result['corr_values'][-1]) >= 5e-2: continue\n",
    "        e.append(result['Energy'])\n",
    "        m.append(np.abs(result['Magnetization']))\n",
    "        c.append(result['Energy2'])\n",
    "        chi.append(result['Magnetization2'])\n",
    "    return [np.mean(e), np.mean(m), np.mean(c), np.mean(chi)]"
   ]
  },
  {
   "cell_type": "code",
   "execution_count": 854,
   "metadata": {
    "scrolled": false
   },
   "outputs": [
    {
     "data": {
      "text/plain": [
       "array([34.62297555, -1.88305091])"
      ]
     },
     "execution_count": 854,
     "metadata": {},
     "output_type": "execute_result"
    },
    {
     "data": {
      "image/png": "[encoded data removed]",
      "text/plain": [
       "<Figure size 432x288 with 1 Axes>"
      ]
     },
     "metadata": {
      "needs_background": "light"
     },
     "output_type": "display_data"
    }
   ],
   "source": [
    "corr_time(100, 100, 2.6, min_time=60, max_time=100, fit = True, draw_each = False)"
   ]
  },
  {
   "cell_type": "code",
   "execution_count": 855,
   "metadata": {},
   "outputs": [
    {
     "data": {
      "text/plain": [
       "<matplotlib.collections.PathCollection at 0x23c8b340dc8>"
      ]
     },
     "execution_count": 855,
     "metadata": {},
     "output_type": "execute_result"
    },
    {
     "data": {
      "image/png": "[encoded data removed]",
      "text/plain": [
       "<Figure size 432x288 with 1 Axes>"
      ]
     },
     "metadata": {
      "needs_background": "light"
     },
     "output_type": "display_data"
    }
   ],
   "source": [
    "temp = np.array([1, 1.5, 1.8, 2, 2.2, 2.3, 2.6, 3, 3.5])\n",
    "tau = np.array([0.99824405, 1.24013707, 3.87455095, 8.88365412, 83.95509624, 1293.45461192, 34.62297555, 8.54602628, 4.09455078])\n",
    "\n",
    "plt.scatter(temp, tau)"
   ]
  },
  {
   "cell_type": "code",
   "execution_count": 823,
   "metadata": {},
   "outputs": [],
   "source": [
    "temps = [1.5, 1.8, 2.0, 2.1, 2.2, 2.25, 2.26, 2.269, 2.27, 2.28, 2.29, 2.3, 2.35, 2.4, 2.5, 2.65, 2.8, 3.5]\n",
    "char_df = pd.DataFrame()\n",
    "for i in temps:\n",
    "    char_df = pd.concat([char_df, pd.Series(observables(100, 100, i))], axis=1)\n",
    "    \n",
    "char_df.columns = temps\n",
    "char_df = char_df.T\n",
    "char_df.columns = ['E', 'M', 'C', 'Chi']"
   ]
  },
  {
   "cell_type": "code",
   "execution_count": 824,
   "metadata": {},
   "outputs": [
    {
     "data": {
      "text/plain": [
       "<matplotlib.collections.PathCollection at 0x23c8cca1548>"
      ]
     },
     "execution_count": 824,
     "metadata": {},
     "output_type": "execute_result"
    },
    {
     "data": {
      "image/png": "[encoded data removed]",
      "text/plain": [
       "<Figure size 432x288 with 1 Axes>"
      ]
     },
     "metadata": {
      "needs_background": "light"
     },
     "output_type": "display_data"
    }
   ],
   "source": [
    "plt.scatter(temps, char_df['Chi'])"
   ]
  }
 ],
 "metadata": {
  "kernelspec": {
   "display_name": "Python 3",
   "language": "python",
   "name": "python3"
  },
  "language_info": {
   "codemirror_mode": {
    "name": "ipython",
    "version": 3
   },
   "file_extension": ".py",
   "mimetype": "text/x-python",
   "name": "python",
   "nbconvert_exporter": "python",
   "pygments_lexer": "ipython3",
   "version": "3.7.6"
  }
 },
 "nbformat": 4,
 "nbformat_minor": 5
}
